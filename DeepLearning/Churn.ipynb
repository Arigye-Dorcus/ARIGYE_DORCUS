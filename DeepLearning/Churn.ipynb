{
 "cells": [
  {
   "cell_type": "code",
   "execution_count": 57,
   "id": "3eced03d",
   "metadata": {},
   "outputs": [],
   "source": [
    "# what to do\n",
    "#clean\n",
    "# build a tensorflow model\n",
    "#train and predicting\n",
    "#save model and reload"
   ]
  },
  {
   "cell_type": "code",
   "execution_count": 58,
   "id": "0e05b64a",
   "metadata": {},
   "outputs": [],
   "source": [
    "import numpy as np\n",
    "import matplotlib.pyplot as plt\n",
    "import pandas as pd\n",
    "import seaborn as sns\n",
    "import warnings\n",
    "warnings.filterwarnings('ignore')\n",
    "from tensorflow import keras  # type: ignore # high level APIs\n",
    "from tensorflow.keras.preprocessing.image import ImageDataGenerator  # type: ignore # Augmentation (note: preprocessing, not processing)\n",
    "from tensorflow.keras.models import Sequential  # type: ignore # linear stack of neural network layers (note: Sequential, not sequential)\n",
    "from tensorflow.keras.layers import Conv2D, MaxPooling2D, Flatten, Dense, Dropout  # type: ignore # layer CNN (note: Flatten, not Flattern)\n",
    "from tensorflow.keras.optimizers import Adam  # type: ignore # Optimizer for training (note: optimizers, not optimisers)\n",
    "from tensorflow.keras.callbacks import ModelCheckpoint, EarlyStopping  # type: ignore # training callbacks"
   ]
  },
  {
   "cell_type": "code",
   "execution_count": 59,
   "id": "485d6e47",
   "metadata": {},
   "outputs": [],
   "source": [
    "data=pd.read_csv('Churn (2).csv')"
   ]
  },
  {
   "cell_type": "code",
   "execution_count": 60,
   "id": "79661e4b",
   "metadata": {},
   "outputs": [
    {
     "data": {
      "text/html": [
       "<div>\n",
       "<style scoped>\n",
       "    .dataframe tbody tr th:only-of-type {\n",
       "        vertical-align: middle;\n",
       "    }\n",
       "\n",
       "    .dataframe tbody tr th {\n",
       "        vertical-align: top;\n",
       "    }\n",
       "\n",
       "    .dataframe thead th {\n",
       "        text-align: right;\n",
       "    }\n",
       "</style>\n",
       "<table border=\"1\" class=\"dataframe\">\n",
       "  <thead>\n",
       "    <tr style=\"text-align: right;\">\n",
       "      <th></th>\n",
       "      <th>Customer ID</th>\n",
       "      <th>Gender</th>\n",
       "      <th>Senior Citizen</th>\n",
       "      <th>Partner</th>\n",
       "      <th>Dependents</th>\n",
       "      <th>tenure</th>\n",
       "      <th>Phone Service</th>\n",
       "      <th>Multiple Lines</th>\n",
       "      <th>Internet Service</th>\n",
       "      <th>Online Security</th>\n",
       "      <th>...</th>\n",
       "      <th>Device Protection</th>\n",
       "      <th>Tech Support</th>\n",
       "      <th>Streaming TV</th>\n",
       "      <th>Streaming Movies</th>\n",
       "      <th>Contract</th>\n",
       "      <th>Paperless Billing</th>\n",
       "      <th>Payment Method</th>\n",
       "      <th>Monthly Charges</th>\n",
       "      <th>Total Charges</th>\n",
       "      <th>Churn</th>\n",
       "    </tr>\n",
       "  </thead>\n",
       "  <tbody>\n",
       "    <tr>\n",
       "      <th>0</th>\n",
       "      <td>7590-VHVEA</td>\n",
       "      <td>Female</td>\n",
       "      <td>0</td>\n",
       "      <td>Yes</td>\n",
       "      <td>No</td>\n",
       "      <td>1</td>\n",
       "      <td>No</td>\n",
       "      <td>No phone service</td>\n",
       "      <td>DSL</td>\n",
       "      <td>No</td>\n",
       "      <td>...</td>\n",
       "      <td>No</td>\n",
       "      <td>No</td>\n",
       "      <td>No</td>\n",
       "      <td>No</td>\n",
       "      <td>Month-to-month</td>\n",
       "      <td>Yes</td>\n",
       "      <td>Electronic check</td>\n",
       "      <td>29.85</td>\n",
       "      <td>29.85</td>\n",
       "      <td>No</td>\n",
       "    </tr>\n",
       "    <tr>\n",
       "      <th>1</th>\n",
       "      <td>7590-VHVEG</td>\n",
       "      <td>Female</td>\n",
       "      <td>0</td>\n",
       "      <td>Yes</td>\n",
       "      <td>No</td>\n",
       "      <td>1</td>\n",
       "      <td>No</td>\n",
       "      <td>No phone service</td>\n",
       "      <td>DSL</td>\n",
       "      <td>No</td>\n",
       "      <td>...</td>\n",
       "      <td>No</td>\n",
       "      <td>No</td>\n",
       "      <td>No</td>\n",
       "      <td>No</td>\n",
       "      <td>Month-to-month</td>\n",
       "      <td>Yes</td>\n",
       "      <td>Electronic check</td>\n",
       "      <td>29.85</td>\n",
       "      <td>29.85</td>\n",
       "      <td>No</td>\n",
       "    </tr>\n",
       "    <tr>\n",
       "      <th>2</th>\n",
       "      <td>5575-GNVDE</td>\n",
       "      <td>Male</td>\n",
       "      <td>0</td>\n",
       "      <td>No</td>\n",
       "      <td>No</td>\n",
       "      <td>34</td>\n",
       "      <td>Yes</td>\n",
       "      <td>No</td>\n",
       "      <td>DSL</td>\n",
       "      <td>Yes</td>\n",
       "      <td>...</td>\n",
       "      <td>Yes</td>\n",
       "      <td>No</td>\n",
       "      <td>No</td>\n",
       "      <td>No</td>\n",
       "      <td>One year</td>\n",
       "      <td>No</td>\n",
       "      <td>Mailed check</td>\n",
       "      <td>56.95</td>\n",
       "      <td>1889.5</td>\n",
       "      <td>No</td>\n",
       "    </tr>\n",
       "    <tr>\n",
       "      <th>3</th>\n",
       "      <td>3668-QPYBK</td>\n",
       "      <td>Male</td>\n",
       "      <td>0</td>\n",
       "      <td>No</td>\n",
       "      <td>No</td>\n",
       "      <td>2</td>\n",
       "      <td>Yes</td>\n",
       "      <td>No</td>\n",
       "      <td>DSL</td>\n",
       "      <td>Yes</td>\n",
       "      <td>...</td>\n",
       "      <td>No</td>\n",
       "      <td>No</td>\n",
       "      <td>No</td>\n",
       "      <td>No</td>\n",
       "      <td>Month-to-month</td>\n",
       "      <td>Yes</td>\n",
       "      <td>Mailed check</td>\n",
       "      <td>53.85</td>\n",
       "      <td>108.15</td>\n",
       "      <td>Yes</td>\n",
       "    </tr>\n",
       "    <tr>\n",
       "      <th>4</th>\n",
       "      <td>7795-CFOCW</td>\n",
       "      <td>Male</td>\n",
       "      <td>0</td>\n",
       "      <td>No</td>\n",
       "      <td>No</td>\n",
       "      <td>45</td>\n",
       "      <td>No</td>\n",
       "      <td>No phone service</td>\n",
       "      <td>DSL</td>\n",
       "      <td>Yes</td>\n",
       "      <td>...</td>\n",
       "      <td>Yes</td>\n",
       "      <td>Yes</td>\n",
       "      <td>No</td>\n",
       "      <td>No</td>\n",
       "      <td>One year</td>\n",
       "      <td>No</td>\n",
       "      <td>Bank transfer (automatic)</td>\n",
       "      <td>42.30</td>\n",
       "      <td>1840.75</td>\n",
       "      <td>No</td>\n",
       "    </tr>\n",
       "  </tbody>\n",
       "</table>\n",
       "<p>5 rows × 21 columns</p>\n",
       "</div>"
      ],
      "text/plain": [
       "  Customer ID  Gender  Senior Citizen Partner Dependents  tenure  \\\n",
       "0  7590-VHVEA  Female               0     Yes         No       1   \n",
       "1  7590-VHVEG  Female               0     Yes         No       1   \n",
       "2  5575-GNVDE    Male               0      No         No      34   \n",
       "3  3668-QPYBK    Male               0      No         No       2   \n",
       "4  7795-CFOCW    Male               0      No         No      45   \n",
       "\n",
       "  Phone Service    Multiple Lines Internet Service Online Security  ...  \\\n",
       "0            No  No phone service              DSL              No  ...   \n",
       "1            No  No phone service              DSL              No  ...   \n",
       "2           Yes                No              DSL             Yes  ...   \n",
       "3           Yes                No              DSL             Yes  ...   \n",
       "4            No  No phone service              DSL             Yes  ...   \n",
       "\n",
       "  Device Protection Tech Support Streaming TV Streaming Movies  \\\n",
       "0                No           No           No               No   \n",
       "1                No           No           No               No   \n",
       "2               Yes           No           No               No   \n",
       "3                No           No           No               No   \n",
       "4               Yes          Yes           No               No   \n",
       "\n",
       "         Contract Paperless Billing             Payment Method  \\\n",
       "0  Month-to-month               Yes           Electronic check   \n",
       "1  Month-to-month               Yes           Electronic check   \n",
       "2        One year                No               Mailed check   \n",
       "3  Month-to-month               Yes               Mailed check   \n",
       "4        One year                No  Bank transfer (automatic)   \n",
       "\n",
       "  Monthly Charges  Total Charges Churn  \n",
       "0           29.85          29.85    No  \n",
       "1           29.85          29.85    No  \n",
       "2           56.95         1889.5    No  \n",
       "3           53.85         108.15   Yes  \n",
       "4           42.30        1840.75    No  \n",
       "\n",
       "[5 rows x 21 columns]"
      ]
     },
     "execution_count": 60,
     "metadata": {},
     "output_type": "execute_result"
    }
   ],
   "source": [
    "data.head(5)"
   ]
  },
  {
   "cell_type": "code",
   "execution_count": 61,
   "id": "ad36e9ad",
   "metadata": {},
   "outputs": [
    {
     "data": {
      "text/plain": [
       "(7044, 21)"
      ]
     },
     "execution_count": 61,
     "metadata": {},
     "output_type": "execute_result"
    }
   ],
   "source": [
    "data.shape"
   ]
  },
  {
   "cell_type": "code",
   "execution_count": 62,
   "id": "8f3fdae4",
   "metadata": {},
   "outputs": [
    {
     "data": {
      "text/plain": [
       "Customer ID          0\n",
       "Gender               0\n",
       "Senior Citizen       0\n",
       "Partner              0\n",
       "Dependents           0\n",
       "tenure               0\n",
       "Phone Service        0\n",
       "Multiple Lines       0\n",
       "Internet Service     0\n",
       "Online Security      0\n",
       "Online Backup        0\n",
       "Device Protection    0\n",
       "Tech Support         0\n",
       "Streaming TV         0\n",
       "Streaming Movies     0\n",
       "Contract             0\n",
       "Paperless Billing    0\n",
       "Payment Method       0\n",
       "Monthly Charges      0\n",
       "Total Charges        0\n",
       "Churn                0\n",
       "dtype: int64"
      ]
     },
     "execution_count": 62,
     "metadata": {},
     "output_type": "execute_result"
    }
   ],
   "source": [
    "#check for missing values\n",
    "data.isnull().sum()"
   ]
  },
  {
   "cell_type": "code",
   "execution_count": 63,
   "id": "eb3171ef",
   "metadata": {},
   "outputs": [
    {
     "data": {
      "text/plain": [
       "Index(['Customer ID', 'Gender', 'Senior Citizen', 'Partner', 'Dependents',\n",
       "       'tenure', 'Phone Service', 'Multiple Lines', 'Internet Service',\n",
       "       'Online Security', 'Online Backup', 'Device Protection', 'Tech Support',\n",
       "       'Streaming TV', 'Streaming Movies', 'Contract', 'Paperless Billing',\n",
       "       'Payment Method', 'Monthly Charges', 'Total Charges', 'Churn'],\n",
       "      dtype='object')"
      ]
     },
     "execution_count": 63,
     "metadata": {},
     "output_type": "execute_result"
    }
   ],
   "source": [
    "#columns\n",
    "data.columns"
   ]
  },
  {
   "cell_type": "code",
   "execution_count": 64,
   "id": "96e0e56b",
   "metadata": {},
   "outputs": [
    {
     "data": {
      "text/html": [
       "<div>\n",
       "<style scoped>\n",
       "    .dataframe tbody tr th:only-of-type {\n",
       "        vertical-align: middle;\n",
       "    }\n",
       "\n",
       "    .dataframe tbody tr th {\n",
       "        vertical-align: top;\n",
       "    }\n",
       "\n",
       "    .dataframe thead th {\n",
       "        text-align: right;\n",
       "    }\n",
       "</style>\n",
       "<table border=\"1\" class=\"dataframe\">\n",
       "  <thead>\n",
       "    <tr style=\"text-align: right;\">\n",
       "      <th></th>\n",
       "      <th>count</th>\n",
       "      <th>mean</th>\n",
       "      <th>std</th>\n",
       "      <th>min</th>\n",
       "      <th>25%</th>\n",
       "      <th>50%</th>\n",
       "      <th>75%</th>\n",
       "      <th>max</th>\n",
       "    </tr>\n",
       "  </thead>\n",
       "  <tbody>\n",
       "    <tr>\n",
       "      <th>Senior Citizen</th>\n",
       "      <td>7044.0</td>\n",
       "      <td>0.162124</td>\n",
       "      <td>0.368590</td>\n",
       "      <td>0.00</td>\n",
       "      <td>0.0</td>\n",
       "      <td>0.00</td>\n",
       "      <td>0.00</td>\n",
       "      <td>1.00</td>\n",
       "    </tr>\n",
       "    <tr>\n",
       "      <th>tenure</th>\n",
       "      <td>7044.0</td>\n",
       "      <td>32.366695</td>\n",
       "      <td>24.560582</td>\n",
       "      <td>0.00</td>\n",
       "      <td>9.0</td>\n",
       "      <td>29.00</td>\n",
       "      <td>55.00</td>\n",
       "      <td>72.00</td>\n",
       "    </tr>\n",
       "    <tr>\n",
       "      <th>Monthly Charges</th>\n",
       "      <td>7044.0</td>\n",
       "      <td>64.756736</td>\n",
       "      <td>30.090786</td>\n",
       "      <td>18.25</td>\n",
       "      <td>35.5</td>\n",
       "      <td>70.35</td>\n",
       "      <td>89.85</td>\n",
       "      <td>118.75</td>\n",
       "    </tr>\n",
       "  </tbody>\n",
       "</table>\n",
       "</div>"
      ],
      "text/plain": [
       "                  count       mean        std    min   25%    50%    75%  \\\n",
       "Senior Citizen   7044.0   0.162124   0.368590   0.00   0.0   0.00   0.00   \n",
       "tenure           7044.0  32.366695  24.560582   0.00   9.0  29.00  55.00   \n",
       "Monthly Charges  7044.0  64.756736  30.090786  18.25  35.5  70.35  89.85   \n",
       "\n",
       "                    max  \n",
       "Senior Citizen     1.00  \n",
       "tenure            72.00  \n",
       "Monthly Charges  118.75  "
      ]
     },
     "execution_count": 64,
     "metadata": {},
     "output_type": "execute_result"
    }
   ],
   "source": [
    "data.describe().T"
   ]
  },
  {
   "cell_type": "code",
   "execution_count": 65,
   "id": "5520de35",
   "metadata": {},
   "outputs": [
    {
     "data": {
      "text/html": [
       "<div>\n",
       "<style scoped>\n",
       "    .dataframe tbody tr th:only-of-type {\n",
       "        vertical-align: middle;\n",
       "    }\n",
       "\n",
       "    .dataframe tbody tr th {\n",
       "        vertical-align: top;\n",
       "    }\n",
       "\n",
       "    .dataframe thead th {\n",
       "        text-align: right;\n",
       "    }\n",
       "</style>\n",
       "<table border=\"1\" class=\"dataframe\">\n",
       "  <thead>\n",
       "    <tr style=\"text-align: right;\">\n",
       "      <th></th>\n",
       "      <th>tenure</th>\n",
       "      <th>Total Charges</th>\n",
       "    </tr>\n",
       "  </thead>\n",
       "  <tbody>\n",
       "    <tr>\n",
       "      <th>489</th>\n",
       "      <td>0</td>\n",
       "      <td></td>\n",
       "    </tr>\n",
       "    <tr>\n",
       "      <th>754</th>\n",
       "      <td>0</td>\n",
       "      <td></td>\n",
       "    </tr>\n",
       "    <tr>\n",
       "      <th>937</th>\n",
       "      <td>0</td>\n",
       "      <td></td>\n",
       "    </tr>\n",
       "    <tr>\n",
       "      <th>1083</th>\n",
       "      <td>0</td>\n",
       "      <td></td>\n",
       "    </tr>\n",
       "    <tr>\n",
       "      <th>1341</th>\n",
       "      <td>0</td>\n",
       "      <td></td>\n",
       "    </tr>\n",
       "    <tr>\n",
       "      <th>3332</th>\n",
       "      <td>0</td>\n",
       "      <td></td>\n",
       "    </tr>\n",
       "    <tr>\n",
       "      <th>3827</th>\n",
       "      <td>0</td>\n",
       "      <td></td>\n",
       "    </tr>\n",
       "    <tr>\n",
       "      <th>4381</th>\n",
       "      <td>0</td>\n",
       "      <td></td>\n",
       "    </tr>\n",
       "    <tr>\n",
       "      <th>5219</th>\n",
       "      <td>0</td>\n",
       "      <td></td>\n",
       "    </tr>\n",
       "    <tr>\n",
       "      <th>6671</th>\n",
       "      <td>0</td>\n",
       "      <td></td>\n",
       "    </tr>\n",
       "    <tr>\n",
       "      <th>6755</th>\n",
       "      <td>0</td>\n",
       "      <td></td>\n",
       "    </tr>\n",
       "  </tbody>\n",
       "</table>\n",
       "</div>"
      ],
      "text/plain": [
       "      tenure Total Charges\n",
       "489        0              \n",
       "754        0              \n",
       "937        0              \n",
       "1083       0              \n",
       "1341       0              \n",
       "3332       0              \n",
       "3827       0              \n",
       "4381       0              \n",
       "5219       0              \n",
       "6671       0              \n",
       "6755       0              "
      ]
     },
     "execution_count": 65,
     "metadata": {},
     "output_type": "execute_result"
    }
   ],
   "source": [
    "# the relation of missing values of totalcharges to the tenure\n",
    "data.loc[data['tenure']== 0, ['tenure','Total Charges']]\n"
   ]
  },
  {
   "cell_type": "code",
   "execution_count": 66,
   "id": "24825057",
   "metadata": {},
   "outputs": [],
   "source": [
    "data['Total Charges']=pd.to_numeric(data['Total Charges'],errors='coerce')\n",
    "data['Total Charges'] = data['Total Charges'].fillna(data['Total Charges'].median())"
   ]
  },
  {
   "cell_type": "code",
   "execution_count": 67,
   "id": "1827ea86",
   "metadata": {},
   "outputs": [],
   "source": [
    "catergorical_col=['Gender','Partner','Dependents','Phone Service','Multiple Lines','Internet Service','Online Security','Online Backup','Device Protection','Tech Support','Streaming TV','Streaming Movies','Contract','Paperless Billing','Payment Method','Total Charges','Churn']\n",
    "for col in catergorical_col:\n",
    "    mode=data[col].mode()[0]\n",
    "    data[col].fillna(mode,inplace=True)"
   ]
  },
  {
   "cell_type": "code",
   "execution_count": 68,
   "id": "96b9edd6",
   "metadata": {},
   "outputs": [
    {
     "data": {
      "text/plain": [
       "Customer ID           object\n",
       "Gender                object\n",
       "Senior Citizen         int64\n",
       "Partner               object\n",
       "Dependents            object\n",
       "tenure                 int64\n",
       "Phone Service         object\n",
       "Multiple Lines        object\n",
       "Internet Service      object\n",
       "Online Security       object\n",
       "Online Backup         object\n",
       "Device Protection     object\n",
       "Tech Support          object\n",
       "Streaming TV          object\n",
       "Streaming Movies      object\n",
       "Contract              object\n",
       "Paperless Billing     object\n",
       "Payment Method        object\n",
       "Monthly Charges      float64\n",
       "Total Charges        float64\n",
       "Churn                 object\n",
       "dtype: object"
      ]
     },
     "execution_count": 68,
     "metadata": {},
     "output_type": "execute_result"
    }
   ],
   "source": [
    "#check data types\n",
    "data.dtypes"
   ]
  },
  {
   "cell_type": "code",
   "execution_count": 69,
   "id": "a1436706",
   "metadata": {},
   "outputs": [
    {
     "data": {
      "text/plain": [
       "(7044, 20)"
      ]
     },
     "execution_count": 69,
     "metadata": {},
     "output_type": "execute_result"
    }
   ],
   "source": [
    "#drop unnecessary columns\n",
    "col_catergory=data.drop(columns=['Customer ID'],inplace=True)\n",
    "data.shape"
   ]
  },
  {
   "cell_type": "code",
   "execution_count": 70,
   "id": "f6501b00",
   "metadata": {},
   "outputs": [],
   "source": [
    "data['Senior Citizen']=pd.to_numeric(data['Senior Citizen'],errors='coerce')\n",
    "data['Senior Citizen'] = data['Senior Citizen']. fillna(data['Senior Citizen'].median())"
   ]
  },
  {
   "cell_type": "code",
   "execution_count": 71,
   "id": "9b3b86b0",
   "metadata": {},
   "outputs": [
    {
     "data": {
      "text/plain": [
       "Gender               0\n",
       "Senior Citizen       0\n",
       "Partner              0\n",
       "Dependents           0\n",
       "tenure               0\n",
       "Phone Service        0\n",
       "Multiple Lines       0\n",
       "Internet Service     0\n",
       "Online Security      0\n",
       "Online Backup        0\n",
       "Device Protection    0\n",
       "Tech Support         0\n",
       "Streaming TV         0\n",
       "Streaming Movies     0\n",
       "Contract             0\n",
       "Paperless Billing    0\n",
       "Payment Method       0\n",
       "Monthly Charges      0\n",
       "Total Charges        0\n",
       "Churn                0\n",
       "dtype: int64"
      ]
     },
     "execution_count": 71,
     "metadata": {},
     "output_type": "execute_result"
    }
   ],
   "source": [
    "data.isnull().sum()"
   ]
  },
  {
   "cell_type": "code",
   "execution_count": 72,
   "id": "91ab0e7c",
   "metadata": {},
   "outputs": [],
   "source": [
    "data=data.drop_duplicates()\n"
   ]
  },
  {
   "cell_type": "code",
   "execution_count": 73,
   "id": "9d7f103e",
   "metadata": {},
   "outputs": [
    {
     "name": "stdout",
     "output_type": "stream",
     "text": [
      "0\n"
     ]
    }
   ],
   "source": [
    "#check for duplicates\n",
    "print(data.duplicated().sum())"
   ]
  },
  {
   "cell_type": "code",
   "execution_count": 74,
   "id": "de0450d8",
   "metadata": {},
   "outputs": [
    {
     "data": {
      "image/png": "[encoded data removed]",
      "text/plain": [
       "<Figure size 1200x800 with 2 Axes>"
      ]
     },
     "metadata": {},
     "output_type": "display_data"
    }
   ],
   "source": [
    "train=data.corr(numeric_only=True)\n",
    "plt.figure(figsize=(12,8))\n",
    "plt.title('Correlation heat map')\n",
    "sns.heatmap(train,annot=True, cmap='coolwarm',fmt='.2f',linewidths=0.5, center=True)\n",
    "plt.show()"
   ]
  },
  {
   "cell_type": "code",
   "execution_count": 75,
   "id": "d25b32d7",
   "metadata": {},
   "outputs": [
    {
     "data": {
      "text/html": [
       "<div>\n",
       "<style scoped>\n",
       "    .dataframe tbody tr th:only-of-type {\n",
       "        vertical-align: middle;\n",
       "    }\n",
       "\n",
       "    .dataframe tbody tr th {\n",
       "        vertical-align: top;\n",
       "    }\n",
       "\n",
       "    .dataframe thead th {\n",
       "        text-align: right;\n",
       "    }\n",
       "</style>\n",
       "<table border=\"1\" class=\"dataframe\">\n",
       "  <thead>\n",
       "    <tr style=\"text-align: right;\">\n",
       "      <th></th>\n",
       "      <th>Senior Citizen</th>\n",
       "      <th>tenure</th>\n",
       "      <th>Monthly Charges</th>\n",
       "      <th>Total Charges</th>\n",
       "    </tr>\n",
       "  </thead>\n",
       "  <tbody>\n",
       "    <tr>\n",
       "      <th>Senior Citizen</th>\n",
       "      <td>1.000000</td>\n",
       "      <td>0.015349</td>\n",
       "      <td>0.219434</td>\n",
       "      <td>0.101886</td>\n",
       "    </tr>\n",
       "    <tr>\n",
       "      <th>tenure</th>\n",
       "      <td>0.015349</td>\n",
       "      <td>1.000000</td>\n",
       "      <td>0.245251</td>\n",
       "      <td>0.824875</td>\n",
       "    </tr>\n",
       "    <tr>\n",
       "      <th>Monthly Charges</th>\n",
       "      <td>0.219434</td>\n",
       "      <td>0.245251</td>\n",
       "      <td>1.000000</td>\n",
       "      <td>0.650341</td>\n",
       "    </tr>\n",
       "    <tr>\n",
       "      <th>Total Charges</th>\n",
       "      <td>0.101886</td>\n",
       "      <td>0.824875</td>\n",
       "      <td>0.650341</td>\n",
       "      <td>1.000000</td>\n",
       "    </tr>\n",
       "  </tbody>\n",
       "</table>\n",
       "</div>"
      ],
      "text/plain": [
       "                 Senior Citizen    tenure  Monthly Charges  Total Charges\n",
       "Senior Citizen         1.000000  0.015349         0.219434       0.101886\n",
       "tenure                 0.015349  1.000000         0.245251       0.824875\n",
       "Monthly Charges        0.219434  0.245251         1.000000       0.650341\n",
       "Total Charges          0.101886  0.824875         0.650341       1.000000"
      ]
     },
     "execution_count": 75,
     "metadata": {},
     "output_type": "execute_result"
    }
   ],
   "source": [
    "data.corr(numeric_only=True)"
   ]
  },
  {
   "cell_type": "code",
   "execution_count": 76,
   "id": "4f7696fe",
   "metadata": {},
   "outputs": [
    {
     "data": {
      "text/plain": [
       "Churn\n",
       "No     73.550776\n",
       "Yes    26.449224\n",
       "Name: count, dtype: float64"
      ]
     },
     "execution_count": 76,
     "metadata": {},
     "output_type": "execute_result"
    }
   ],
   "source": [
    "#check the value of the target variable\n",
    "data['Churn'].value_counts()*100/len(data['Churn'])"
   ]
  },
  {
   "cell_type": "code",
   "execution_count": 77,
   "id": "0d9a36a1",
   "metadata": {},
   "outputs": [
    {
     "data": {
      "image/png": "[encoded data removed]",
      "text/plain": [
       "<Figure size 640x480 with 1 Axes>"
      ]
     },
     "metadata": {},
     "output_type": "display_data"
    }
   ],
   "source": [
    "#plot Churn\n",
    "churn=data['Churn'].value_counts()\n",
    "churn.plot(kind='bar',color=['blue','yellow'],edgecolor='black')\n",
    "plt.title(\"Churn distribution\")\n",
    "plt.xlabel('Churn')\n",
    "plt.ylabel('Count')\n",
    "plt.show()"
   ]
  },
  {
   "cell_type": "code",
   "execution_count": 78,
   "id": "95f5f626",
   "metadata": {},
   "outputs": [
    {
     "name": "stdout",
     "output_type": "stream",
     "text": [
      "Unique:2\n",
      "Unique:2\n",
      "Unique:2\n",
      "Unique:2\n",
      "Unique:73\n",
      "Unique:2\n",
      "Unique:3\n",
      "Unique:3\n",
      "Unique:3\n",
      "Unique:3\n",
      "Unique:3\n",
      "Unique:3\n",
      "Unique:3\n",
      "Unique:3\n",
      "Unique:3\n",
      "Unique:2\n",
      "Unique:4\n",
      "Unique:1585\n",
      "Unique:6530\n",
      "Unique:2\n"
     ]
    }
   ],
   "source": [
    "#unique values\n",
    "for i in data.columns:\n",
    "    print(f'Unique:{data[i].nunique()}')"
   ]
  },
  {
   "cell_type": "code",
   "execution_count": 79,
   "id": "44e45784",
   "metadata": {},
   "outputs": [
    {
     "name": "stdout",
     "output_type": "stream",
     "text": [
      "\n",
      "\n",
      "Gender\n",
      "Male      3541\n",
      "Female    3480\n",
      "Name: count, dtype: int64\n",
      "\n",
      "\n",
      "Partner\n",
      "No     3619\n",
      "Yes    3402\n",
      "Name: count, dtype: int64\n",
      "\n",
      "\n",
      "Dependents\n",
      "No     4911\n",
      "Yes    2110\n",
      "Name: count, dtype: int64\n",
      "\n",
      "\n",
      "Phone Service\n",
      "Yes    6339\n",
      "No      682\n",
      "Name: count, dtype: int64\n",
      "\n",
      "\n",
      "Multiple Lines\n",
      "No                  3368\n",
      "Yes                 2971\n",
      "No phone service     682\n",
      "Name: count, dtype: int64\n",
      "\n",
      "\n",
      "Internet Service\n",
      "Fiber optic    3090\n",
      "DSL            2419\n",
      "No             1512\n",
      "Name: count, dtype: int64\n",
      "\n",
      "\n",
      "Online Security\n",
      "No                     3490\n",
      "Yes                    2019\n",
      "No internet service    1512\n",
      "Name: count, dtype: int64\n",
      "\n",
      "\n",
      "Online Backup\n",
      "No                     3080\n",
      "Yes                    2429\n",
      "No internet service    1512\n",
      "Name: count, dtype: int64\n",
      "\n",
      "\n",
      "Device Protection\n",
      "No                     3087\n",
      "Yes                    2422\n",
      "No internet service    1512\n",
      "Name: count, dtype: int64\n",
      "\n",
      "\n",
      "Tech Support\n",
      "No                     3465\n",
      "Yes                    2044\n",
      "No internet service    1512\n",
      "Name: count, dtype: int64\n",
      "\n",
      "\n",
      "Streaming TV\n",
      "No                     2802\n",
      "Yes                    2707\n",
      "No internet service    1512\n",
      "Name: count, dtype: int64\n",
      "\n",
      "\n",
      "Streaming Movies\n",
      "No                     2777\n",
      "Yes                    2732\n",
      "No internet service    1512\n",
      "Name: count, dtype: int64\n",
      "\n",
      "\n",
      "Contract\n",
      "Month-to-month    3853\n",
      "Two year          1695\n",
      "One year          1473\n",
      "Name: count, dtype: int64\n",
      "\n",
      "\n",
      "Paperless Billing\n",
      "Yes    4161\n",
      "No     2860\n",
      "Name: count, dtype: int64\n",
      "\n",
      "\n",
      "Payment Method\n",
      "Electronic check             2359\n",
      "Mailed check                 1596\n",
      "Bank transfer (automatic)    1544\n",
      "Credit card (automatic)      1522\n",
      "Name: count, dtype: int64\n",
      "\n",
      "\n",
      "Total Charges\n",
      "1397.30    12\n",
      "19.75       9\n",
      "20.20       8\n",
      "19.65       7\n",
      "19.90       7\n",
      "           ..\n",
      "1990.50     1\n",
      "7362.90     1\n",
      "346.45      1\n",
      "306.60      1\n",
      "6844.50     1\n",
      "Name: count, Length: 6530, dtype: int64\n",
      "\n",
      "\n",
      "Churn\n",
      "No     5164\n",
      "Yes    1857\n",
      "Name: count, dtype: int64\n"
     ]
    }
   ],
   "source": [
    "for i in catergorical_col:\n",
    "    print(\"\\n\")\n",
    "    print(data[i].value_counts())"
   ]
  },
  {
   "cell_type": "code",
   "execution_count": 80,
   "id": "56dccde0",
   "metadata": {},
   "outputs": [
    {
     "data": {
      "text/plain": [
       "Index(['Gender', 'Senior Citizen', 'Partner', 'Dependents', 'tenure',\n",
       "       'Phone Service', 'Multiple Lines', 'Internet Service',\n",
       "       'Online Security', 'Online Backup', 'Device Protection', 'Tech Support',\n",
       "       'Streaming TV', 'Streaming Movies', 'Contract', 'Paperless Billing',\n",
       "       'Payment Method', 'Monthly Charges', 'Total Charges', 'Churn'],\n",
       "      dtype='object')"
      ]
     },
     "execution_count": 80,
     "metadata": {},
     "output_type": "execute_result"
    }
   ],
   "source": [
    "data.columns"
   ]
  },
  {
   "cell_type": "code",
   "execution_count": 81,
   "id": "a1c6a7b4",
   "metadata": {},
   "outputs": [],
   "source": [
    "num_cols=['tenure','Monthly Charges','Total Charges']\n",
    "catergorical_col=['Gender','Partner','Dependents','Phone Service','Multiple Lines','Internet Service','Online Backup','Device Protection','Tech Support','Straming TV','Streaming Movies','Contract','Paperless Billing','Payment Method']"
   ]
  },
  {
   "cell_type": "code",
   "execution_count": 82,
   "id": "20d42f4b",
   "metadata": {},
   "outputs": [
    {
     "ename": "NameError",
     "evalue": "name 'enumerating' is not defined",
     "output_type": "error",
     "traceback": [
      "\u001b[31m---------------------------------------------------------------------------\u001b[39m",
      "\u001b[31mNameError\u001b[39m                                 Traceback (most recent call last)",
      "\u001b[36mCell\u001b[39m\u001b[36m \u001b[39m\u001b[32mIn[82]\u001b[39m\u001b[32m, line 3\u001b[39m\n\u001b[32m      1\u001b[39m \u001b[38;5;66;03m#Visualise the distribution of numerical features\u001b[39;00m\n\u001b[32m      2\u001b[39m plt.figure(figsize=(\u001b[32m12\u001b[39m,\u001b[32m10\u001b[39m))\n\u001b[32m----> \u001b[39m\u001b[32m3\u001b[39m \u001b[38;5;28;01mfor\u001b[39;00m i, col \u001b[38;5;129;01min\u001b[39;00m \u001b[43menumerating\u001b[49m(num_cols, \u001b[32m1\u001b[39m):\n\u001b[32m      4\u001b[39m     plt.subplot(\u001b[32m3\u001b[39m,\u001b[32m2\u001b[39m,i)\n\u001b[32m      5\u001b[39m     sns.histplot(data[col], bins=\u001b[32m20\u001b[39m, kde=\u001b[38;5;28;01mTrue\u001b[39;00m)\n",
      "\u001b[31mNameError\u001b[39m: name 'enumerating' is not defined"
     ]
    },
    {
     "data": {
      "text/plain": [
       "<Figure size 1200x1000 with 0 Axes>"
      ]
     },
     "metadata": {},
     "output_type": "display_data"
    }
   ],
   "source": [
    "#Visualise the distribution of numerical features\n",
    "plt.figure(figsize=(12,10))\n",
    "for i, col in enumerating(num_cols, 1):\n",
    "    plt.subplot(3,2,i)\n",
    "    sns.histplot(data[col], bins=20, kde=True)\n",
    "    plt.title(f'Distribution of {col}')\n",
    "    plt.xlabel(col)\n",
    "    plt.ylabel('count')\n",
    "plt.tight_layout()\n",
    "plt.show()   "
   ]
  },
  {
   "cell_type": "code",
   "execution_count": null,
   "id": "b68c55b4",
   "metadata": {},
   "outputs": [],
   "source": [
    "label='Churn'\n",
    "plt.figure(figsize = (12,24))\n",
    "for i, col in enumerate(catergorical_col, 1):\n",
    "    plt.subplot(6, 3, 1)\n",
    "    ax = sns.countplot(data, x = col, hue = label)\n",
    "    ax.bar_label(ax.containers[0])\n",
    "    ax.bar_label(ax.containers[1])\n",
    "    plt.xticks(rotation = 15)\n",
    "plt.tight_layout()\n",
    "plt.show()   "
   ]
  },
  {
   "cell_type": "code",
   "execution_count": null,
   "id": "d1da1cbe",
   "metadata": {},
   "outputs": [],
   "source": [
    "from sklearn.preprocessing import MinMaxScaler\n",
    "scaler=MinMaxScaler()\n",
    "data[num_cols]=scaler.fit_transform(data[num_cols])\n"
   ]
  },
  {
   "cell_type": "code",
   "execution_count": null,
   "id": "81d68f24",
   "metadata": {},
   "outputs": [],
   "source": [
    "data[num_cols].mean()"
   ]
  },
  {
   "cell_type": "code",
   "execution_count": null,
   "id": "4580d946",
   "metadata": {},
   "outputs": [],
   "source": [
    "#split the data\n",
    "y = data['Churn']\n",
    "x = data.drop('Churn', axis=1)"
   ]
  },
  {
   "cell_type": "code",
   "execution_count": null,
   "id": "a49f2f8c",
   "metadata": {},
   "outputs": [],
   "source": [
    "from sklearn.model_selection import train_test_split #type : ignore\n",
    "x_train,x_test,y_train,y_test=train_test_split(x,y,test_size=0.2,random_state=42)"
   ]
  },
  {
   "cell_type": "code",
   "execution_count": null,
   "id": "eb097559",
   "metadata": {},
   "outputs": [],
   "source": [
    "x_train.shape,x_test.shape,y_train.shape,y_test.shape\n"
   ]
  },
  {
   "cell_type": "code",
   "execution_count": null,
   "id": "8a35e94d",
   "metadata": {},
   "outputs": [],
   "source": [
    "from sklearn.preprocessing import OneHotEncoder\n",
    "combined=pd.concat([x_train,x_test],axis=0)\n",
    "\n",
    "#initialise the onehotencoder\n",
    "encoder=OneHotEncoder(Sparse_output=False,handle_unknown='ignore')\n",
    "encoded_catergories=encoder.fit_transform(combined[catergorical_col])"
   ]
  },
  {
   "cell_type": "code",
   "execution_count": null,
   "id": "a18093ae",
   "metadata": {},
   "outputs": [],
   "source": [
    "#we use to get feature names out to get column names for the encoded data\n",
    "encoded_columns=encoder.get_feature_names_out(catergorical_col)\n"
   ]
  },
  {
   "cell_type": "code",
   "execution_count": null,
   "id": "afd6eecb",
   "metadata": {},
   "outputs": [],
   "source": [
    "#convert into a dataframe\n",
    "df=pd.DataFrame(encoded_catergories,columns=encoded_columns,index=combined.index)\n"
   ]
  },
  {
   "cell_type": "code",
   "execution_count": null,
   "id": "8cc47bae",
   "metadata": {},
   "outputs": [],
   "source": [
    "#drop original categorical columns and join encoded ones\n",
    "combined.drop(columns=catergorical_col,inplace=True)\n",
    "combined=pd.concat([combined,df],axis=1)"
   ]
  },
  {
   "cell_type": "code",
   "execution_count": null,
   "id": "65086855",
   "metadata": {},
   "outputs": [],
   "source": [
    "#resplit\n",
    "x_train = combined.loc[x_train.index]\n",
    "x_test = combined.loc[x_test.index]\n"
   ]
  },
  {
   "cell_type": "code",
   "execution_count": null,
   "id": "1c2e9511",
   "metadata": {},
   "outputs": [],
   "source": [
    "encoder.categories_"
   ]
  },
  {
   "cell_type": "code",
   "execution_count": null,
   "id": "ce256aed",
   "metadata": {},
   "outputs": [],
   "source": [
    "df.head()"
   ]
  },
  {
   "cell_type": "code",
   "execution_count": null,
   "id": "07880454",
   "metadata": {},
   "outputs": [],
   "source": [
    "y_train = y_train.map({'No':0,'Yes':1})\n",
    "y_test = y_test.map({'No':0, 'Yes': 1})"
   ]
  },
  {
   "cell_type": "code",
   "execution_count": null,
   "id": "459a8cb7",
   "metadata": {},
   "outputs": [],
   "source": [
    "model = Sequential()\n",
    "model.add(dense(64, input_shape=(x_train.shape[1],),activation='relu'))\n",
    "model.add(Dropout(0.3))\n",
    "model.add(Dense(32,activation='relu'))\n",
    "model.add(Dropout(0.2))\n",
    "model.add(Dense(1, activation='sigmoid'))"
   ]
  },
  {
   "cell_type": "code",
   "execution_count": null,
   "id": "847ef035",
   "metadata": {},
   "outputs": [],
   "source": [
    "model.compile(optimizer=Adam(learning_rate=0.001)\n",
    "              loss='binary_crossentropy',\n",
    "              metrics=['accuracy'])"
   ]
  },
  {
   "cell_type": "code",
   "execution_count": null,
   "id": "472e98e9",
   "metadata": {},
   "outputs": [],
   "source": [
    "early_stop = EarlyStopping(monitor='val_loss',patience=6, restore_best_weights=True)\n",
    "checkpoint = ModelCheckpoint('best_model.h5', monitor='val_loss', save_best_only=True)\n",
    "history = model.fit(x_train, y_train,\n",
    "                    validation_split=0.2,\n",
    "                    epochs=50,\n",
    "                    batch_size=32,\n",
    "                    callbacks=[early_stop, checkpoint],\n",
    "                    verbose=1)"
   ]
  },
  {
   "cell_type": "code",
   "execution_count": null,
   "id": "2aed41ca",
   "metadata": {},
   "outputs": [],
   "source": [
    "loss, accuracy = model.evaluate(x_test, y_test)\n",
    "print(f'Test Accuracy: {accuracy:.2f}')"
   ]
  },
  {
   "cell_type": "code",
   "execution_count": null,
   "id": "9108cd4d",
   "metadata": {},
   "outputs": [],
   "source": [
    "predictions = (model.predict(x_test > 0.5).astype(\"int32\"))"
   ]
  },
  {
   "cell_type": "code",
   "execution_count": null,
   "id": "6c5c28ab",
   "metadata": {},
   "outputs": [],
   "source": [
    "#save\n",
    "model.save(\"churn_model_tf.keras\")"
   ]
  }
 ],
 "metadata": {
  "kernelspec": {
   "display_name": "ML Python 3.11",
   "language": "python",
   "name": "ml_python311"
  },
  "language_info": {
   "codemirror_mode": {
    "name": "ipython",
    "version": 3
   },
   "file_extension": ".py",
   "mimetype": "text/x-python",
   "name": "python",
   "nbconvert_exporter": "python",
   "pygments_lexer": "ipython3",
   "version": "3.11.9"
  }
 },
 "nbformat": 4,
 "nbformat_minor": 5
}
